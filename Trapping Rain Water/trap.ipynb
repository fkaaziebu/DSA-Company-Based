{
 "cells": [
  {
   "cell_type": "code",
   "execution_count": null,
   "metadata": {},
   "outputs": [],
   "source": [
    "'''\n",
    "We are given array of heights, and we are supposed to calculate the total rain it can trap\n",
    "\n",
    "In this problem, the formula to use to check for rain water is [min(L, R) - height[i]] which means between the max\n",
    "height at the right and left, u check for the minimum and subtract the height at the position u are currently from it\n",
    "and that will give the amount of water to be trapped there\n",
    "'''"
   ]
  },
  {
   "cell_type": "code",
   "execution_count": 25,
   "metadata": {},
   "outputs": [
    {
     "name": "stdout",
     "output_type": "stream",
     "text": [
      "6\n",
      "9\n"
     ]
    }
   ],
   "source": [
    "# First Approach: Using arrays\n",
    "'''\n",
    "In this case, you use two arrays for holding the max of left at each position as well as maximum of right at each\n",
    "position\n",
    "\n",
    "Input: [0, 1, 0, 2, 1, 0, 1, 3, 2, 1, 2, 1]\n",
    "\n",
    "Solution:\n",
    "\n",
    "leftMax:    [0, 0, 1, 1, 2, 2, 2, 2, 3, 3, 3, 3]\n",
    "rightMax:   [3, 3, 3, 3, 3, 3, 3, 2, 2, 2, 1, 0]\n",
    "min(L, R):  [0, 0, 1, 1, 2, 2, 2, 2, 2, 2, 1, 0]\n",
    "\n",
    "res += min(L, R) - height[i]\n",
    "\n",
    "Time complexity:\n",
    "O(N) since we are iterating through the array like once\n",
    "\n",
    "Memory complexity:\n",
    "O(N) because we are using the array datatype to store our computational values up to N.\n",
    "'''\n",
    "\n",
    "# code\n",
    "def trap(height):\n",
    "    if not height: return 0\n",
    "\n",
    "    leftMax = [0] * len(height)\n",
    "    maxVal = 0\n",
    "    for i, h in enumerate(height):\n",
    "        maxVal = max(maxVal, h)\n",
    "        leftMax[i] = maxVal\n",
    "    \n",
    "    rightMax = [0] * len(height)\n",
    "    maxVal = 0\n",
    "    for i in range(len(height) - 1, -1, -1):\n",
    "        maxVal = max(maxVal, height[i])\n",
    "        rightMax[i] = maxVal\n",
    "\n",
    "    minLR = [0] * len(height)\n",
    "    for i in range(len(leftMax)):\n",
    "        minLR[i] = min(leftMax[i], rightMax[i])\n",
    "\n",
    "    res = 0\n",
    "    for i, minVal in enumerate(minLR):\n",
    "        res += (minVal - height[i])\n",
    "\n",
    "    return res\n",
    "        \n",
    "# Test 1\n",
    "height = [0, 1, 0, 2, 1, 0, 1, 3, 2, 1, 2, 1]\n",
    "print(trap(height))\n",
    "\n",
    "# Test 2\n",
    "height = [4,2,0,3,2,5]\n",
    "print(trap(height))"
   ]
  },
  {
   "cell_type": "code",
   "execution_count": 26,
   "metadata": {},
   "outputs": [
    {
     "name": "stdout",
     "output_type": "stream",
     "text": [
      "6\n",
      "9\n"
     ]
    }
   ],
   "source": [
    "# Second Approach: Two Pointers\n",
    "'''\n",
    "In this approach, two pointers are used to keep track of the leftMax and rightMax values very similar the the \n",
    "first approach above\n",
    "\n",
    "Input: height = [0, 1, 0, 2, 1, 0, 1, 3, 2, 1, 2, 1]\n",
    "\n",
    "Solution:\n",
    "[0, 1, 0, 2, 1, 0, 1, 3, 2, 1, 2, 1]\n",
    " *                                ^  l - height[l] since l < r\n",
    "    *                             ^  -------------------------\n",
    "       *                          ^  -------------------------\n",
    "          *                       ^  -------------------------\n",
    "          *                    ^     r - height[r] since l > r\n",
    "             *                 ^     l - height[l] since l = r\n",
    "\n",
    "Time complexity:\n",
    "O(N) because we are making a one pass through the array\n",
    "\n",
    "Memory Complexity:\n",
    "No memory required since we are using pointers here\n",
    "'''\n",
    "\n",
    "# code\n",
    "def trap(height):\n",
    "   if not height: return 0\n",
    "\n",
    "   l, r = 0, len(height) - 1\n",
    "   leftMax, rightMax = height[l], height[r]\n",
    "   res = 0\n",
    "\n",
    "   while l < r:\n",
    "      if leftMax < rightMax:\n",
    "         l += 1\n",
    "         leftMax = max(leftMax, height[l])\n",
    "         res += leftMax - height[l]\n",
    "      else:\n",
    "         r -= 1\n",
    "         rightMax = max(rightMax, height[r])\n",
    "         res += rightMax - height[r]\n",
    "\n",
    "   return res\n",
    "\n",
    "# Test 1\n",
    "height = [0, 1, 0, 2, 1, 0, 1, 3, 2, 1, 2, 1]\n",
    "print(trap(height))\n",
    "\n",
    "# Test 2\n",
    "height = [4,2,0,3,2,5]\n",
    "print(trap(height))\n"
   ]
  }
 ],
 "metadata": {
  "kernelspec": {
   "display_name": "Python 3",
   "language": "python",
   "name": "python3"
  },
  "language_info": {
   "codemirror_mode": {
    "name": "ipython",
    "version": 3
   },
   "file_extension": ".py",
   "mimetype": "text/x-python",
   "name": "python",
   "nbconvert_exporter": "python",
   "pygments_lexer": "ipython3",
   "version": "3.10.6"
  },
  "orig_nbformat": 4
 },
 "nbformat": 4,
 "nbformat_minor": 2
}
