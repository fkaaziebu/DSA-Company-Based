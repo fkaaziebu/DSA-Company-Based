{
 "cells": [
  {
   "cell_type": "code",
   "execution_count": null,
   "metadata": {},
   "outputs": [],
   "source": [
    "'''\n",
    "This question requires us to find two numbers in a 1-indexed array that sum up to the target and return\n",
    "their indices in an array\n",
    "'''"
   ]
  },
  {
   "cell_type": "code",
   "execution_count": 4,
   "metadata": {},
   "outputs": [
    {
     "name": "stdout",
     "output_type": "stream",
     "text": [
      "[3, 4]\n",
      "[1, 3]\n",
      "[1, 2]\n"
     ]
    }
   ],
   "source": [
    "# Brute Force Approach\n",
    "'''\n",
    "In this approach, every value is combined with the other values in the array\n",
    "\n",
    "Input: nums = [1, 3, 4, 5, 7, 10, 11], target = 9\n",
    "\n",
    "Solution\n",
    "[1, 3, 4, 5, 7, 10, 11]\n",
    " *>------------------|\n",
    "    *>---------------|\n",
    "       *>------------|\n",
    "          *>---------|\n",
    "             *>------|\n",
    "                *>---|\n",
    "\n",
    "Time Complexity:\n",
    "For every value we have to iterate through the whole array. O(N^2)\n",
    "\n",
    "Memory Complexity:\n",
    "Constant memory since no array is created (O(N))\n",
    "'''\n",
    "\n",
    "# code\n",
    "def twoSum(nums, target):\n",
    "    for i in range(len(nums)):\n",
    "        for j in range(i + 1, len(nums)):\n",
    "            if (nums[i] + nums[j] == target):\n",
    "                return [i + 1, j + 1]\n",
    "\n",
    "# Test 1\n",
    "nums = [1, 3, 4, 5, 7, 10, 11]\n",
    "target = 9\n",
    "print(twoSum(nums, target))\n",
    "\n",
    "# Test 2\n",
    "nums = [2,3,4]\n",
    "target = 6\n",
    "print(twoSum(nums, target))\n",
    "\n",
    "# Test 3\n",
    "nums = [-1,0]\n",
    "target = -1\n",
    "print(twoSum(nums, target))"
   ]
  },
  {
   "cell_type": "code",
   "execution_count": 5,
   "metadata": {},
   "outputs": [
    {
     "name": "stdout",
     "output_type": "stream",
     "text": [
      "[3, 4]\n",
      "[1, 3]\n",
      "[1, 2]\n"
     ]
    }
   ],
   "source": [
    "\n",
    "# Two Pointers Approach\n",
    "'''\n",
    "Since the array is sorted we can use that to our advantage. Two pointers, one at the start and the other at the end\n",
    "of the array. If the sum of the values at the position of the array is more, we decrease the right pointer by 1 else\n",
    "if less, we increase the left pointer by one\n",
    "\n",
    "Input: nums = [1, 3, 4, 5, 7, 10, 11], target = 9\n",
    "\n",
    "Solution\n",
    "[1, 2, 3, 4, 5, 7, 10, 11]\n",
    " ^                     * = 12 > 9\n",
    " ^                  *    = 11 > 9\n",
    " ^              *        = 8 < 9\n",
    "    ^        *           = 7 < 9\n",
    "       ^                 = 8 < 9\n",
    "          ^              = 9 = 9 return [3, 4]\n",
    "\n",
    "Time Complexity\n",
    "O(N) since the pointers will make us touch every single value in the input array once\n",
    "\n",
    "Memory Complexity\n",
    "Constant. No extra memory required for this\n",
    "'''\n",
    "\n",
    "# code\n",
    "def twoSum(nums, target):\n",
    "    l, r = 0, len(nums) - 1\n",
    "\n",
    "    while l < r:\n",
    "        curSum = nums[l] + nums[r]\n",
    "\n",
    "        if curSum > target:\n",
    "            r -= 1\n",
    "        elif curSum < target:\n",
    "            l += 1\n",
    "        else:\n",
    "            return [l + 1, r + 1]\n",
    "\n",
    "# Test 1\n",
    "nums = [1, 3, 4, 5, 7, 10, 11]\n",
    "target = 9\n",
    "print(twoSum(nums, target))\n",
    "\n",
    "# Test 2\n",
    "nums = [2,3,4]\n",
    "target = 6\n",
    "print(twoSum(nums, target))\n",
    "\n",
    "# Test 3\n",
    "nums = [-1,0]\n",
    "target = -1\n",
    "print(twoSum(nums, target))"
   ]
  }
 ],
 "metadata": {
  "kernelspec": {
   "display_name": "Python 3",
   "language": "python",
   "name": "python3"
  },
  "language_info": {
   "codemirror_mode": {
    "name": "ipython",
    "version": 3
   },
   "file_extension": ".py",
   "mimetype": "text/x-python",
   "name": "python",
   "nbconvert_exporter": "python",
   "pygments_lexer": "ipython3",
   "version": "3.10.6"
  },
  "orig_nbformat": 4
 },
 "nbformat": 4,
 "nbformat_minor": 2
}
