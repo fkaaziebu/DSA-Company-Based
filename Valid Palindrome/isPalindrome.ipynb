{
 "cells": [
  {
   "cell_type": "code",
   "execution_count": null,
   "metadata": {},
   "outputs": [],
   "source": [
    "'''\n",
    "You have been given a string with alphanumeric and other characters. Return True if the string is an alphanumeric\n",
    "character\n",
    "'''"
   ]
  },
  {
   "cell_type": "code",
   "execution_count": 8,
   "metadata": {},
   "outputs": [
    {
     "name": "stdout",
     "output_type": "stream",
     "text": [
      "True\n",
      "True\n"
     ]
    }
   ],
   "source": [
    "# First Approach: Creating a new String of only alphanumeric characters\n",
    "'''\n",
    "In this approach, we create a new string from the original string of only the alphanumeric characters in the original\n",
    "string\n",
    "\n",
    "Input: s = \"A man, a plan, a canal: Panama\"\n",
    "\n",
    "Solution\n",
    "1. New string to hold only alphanumeric characters (A-Z, a-z, 0-9)\n",
    "2. Equate the new string to its reversal\n",
    "\n",
    "Time Complexity:\n",
    "We iterate through the original string once to create the new string so that will be O(N)\n",
    "\n",
    "Memory Complexity:\n",
    "We are using an extra memory for creating our new string so that gives us O(N) memory\n",
    "'''\n",
    "\n",
    "# code\n",
    "def isPalindrome(s):\n",
    "    newStr = \"\"\n",
    "\n",
    "    for c in s:\n",
    "        if c.isalnum():\n",
    "            newStr += c.lower()\n",
    "    \n",
    "    return newStr == newStr[::-1]\n",
    "\n",
    "# Test 1\n",
    "s = \"A man, a plan, a canal: Panama\"\n",
    "print(isPalindrome(s))\n",
    "\n",
    "# Test 2\n",
    "s = \"race a car\"\n",
    "print(isPalindrome(s))\n"
   ]
  },
  {
   "cell_type": "code",
   "execution_count": 20,
   "metadata": {},
   "outputs": [
    {
     "name": "stdout",
     "output_type": "stream",
     "text": [
      "True\n",
      "False\n"
     ]
    }
   ],
   "source": [
    "# Second Approach: Two Pointers\n",
    "'''\n",
    "One pointer placed at the start of the string while the other at the end. We keep shifting the pointers and comparing\n",
    "only alphanumeric characters. We created our own isalnum function\n",
    "\n",
    "Input: s = \"A man, a plan, a canal: Panama\"\n",
    "\n",
    "Solution:\n",
    "\"A man, a plan, a canal: Panama\"\n",
    " ^ -->                    <-- ^\n",
    " l                            r\n",
    " Compare only alphanumeric characters\n",
    "\n",
    " Time Complexity:\n",
    " Since we are making one pass through the array but with two pointers, the time complexity becomes O(N / 2) ~ O(N)\n",
    "\n",
    " Memory Complexity:\n",
    " That will be constant since we are not creating any string\n",
    "'''\n",
    "\n",
    "# code\n",
    "class Solution:\n",
    "    def alphaNum(self, c):\n",
    "        return (ord(\"A\") <= ord(c) <= ord(\"Z\") or\n",
    "                ord(\"a\") <= ord(c) <= ord(\"z\") or\n",
    "                ord(\"0\") <= ord(c) <= ord(\"9\"))\n",
    "\n",
    "    def isPalindrome(self, s):\n",
    "        l, r = 0, len(s) - 1\n",
    "\n",
    "        while l < r:\n",
    "            while l < r and not self.alphaNum(s[l]):\n",
    "                l += 1\n",
    "            while r > l and not self.alphaNum(s[r]):\n",
    "                r -= 1\n",
    "            if s[l].lower() != s[r].lower():\n",
    "                return False\n",
    "            l += 1\n",
    "            r -= 1\n",
    "        return True\n",
    "\n",
    "# Test 1\n",
    "s = \"A man, a plan, a canal: Panama\"\n",
    "obj = Solution()\n",
    "\n",
    "print(obj.isPalindrome(s))\n",
    "\n",
    "# Test 2\n",
    "s = \"race a car\"\n",
    "print(obj.isPalindrome(s))"
   ]
  }
 ],
 "metadata": {
  "kernelspec": {
   "display_name": "Python 3",
   "language": "python",
   "name": "python3"
  },
  "language_info": {
   "codemirror_mode": {
    "name": "ipython",
    "version": 3
   },
   "file_extension": ".py",
   "mimetype": "text/x-python",
   "name": "python",
   "nbconvert_exporter": "python",
   "pygments_lexer": "ipython3",
   "version": "3.10.6"
  },
  "orig_nbformat": 4
 },
 "nbformat": 4,
 "nbformat_minor": 2
}
