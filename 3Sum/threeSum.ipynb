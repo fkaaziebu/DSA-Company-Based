{
 "cells": [
  {
   "cell_type": "code",
   "execution_count": null,
   "metadata": {},
   "outputs": [],
   "source": [
    "'''\n",
    "In this problem, we are to return a list of all the numbers in the input array that up to 0. There should be no\n",
    "repeatition.\n",
    "'''"
   ]
  },
  {
   "cell_type": "code",
   "execution_count": 2,
   "metadata": {},
   "outputs": [
    {
     "name": "stdout",
     "output_type": "stream",
     "text": [
      "[[-1, -1, 2], [-1, 0, 1]]\n",
      "[]\n",
      "[[0, 0, 0]]\n"
     ]
    }
   ],
   "source": [
    "# Two Pointers Approach with input sorted\n",
    "'''\n",
    "You first have to sort the input, after that the problem can then be broken down into twoSum.\n",
    "\n",
    "Input nums = [-3, 3, 4, -3, 1, 2]\n",
    "\n",
    "Solution\n",
    "[-3, -3, 1, 2, 3, 4]\n",
    "  a < l --------- r >\n",
    "       Two pointers\n",
    "\n",
    "Time Complexity:\n",
    "Sorting takes O(NlogN). Then for every (a) value, we combine it with (l) & (r). This means the overall time complexity\n",
    "becomes O(N^2 + NlogN) ~ O(N^2)\n",
    "\n",
    "Memory Complexity\n",
    "Memory complexity could be O(N) or constant memory depending on the implementation of the sorting algorithm\n",
    "'''\n",
    "\n",
    "# code\n",
    "def threeSum(nums):\n",
    "    res = []\n",
    "    nums.sort()\n",
    "\n",
    "    for i, a in enumerate(nums):\n",
    "        if i > 0 and a == nums[i - 1]:\n",
    "            continue\n",
    "\n",
    "        l, r = i + 1, len(nums) - 1\n",
    "        while l < r:\n",
    "            threeSum = a + nums[l] + nums[r]\n",
    "            if threeSum > 0:\n",
    "                r -= 1\n",
    "            elif threeSum < 0:\n",
    "                l += 1\n",
    "            else:\n",
    "                res.append([a, nums[l], nums[r]])\n",
    "                l += 1\n",
    "                while nums[l] == nums[l - 1] and l < r:\n",
    "                    l += 1\n",
    "    return res\n",
    "\n",
    "# Test 1\n",
    "nums = [-1,0,1,2,-1,-4]\n",
    "print(threeSum(nums))\n",
    "\n",
    "# Test 2\n",
    "nums = [0,1,1]\n",
    "print(threeSum(nums))\n",
    "\n",
    "# Test 3\n",
    "nums = [0, 0, 0]\n",
    "print(threeSum(nums))"
   ]
  }
 ],
 "metadata": {
  "kernelspec": {
   "display_name": "Python 3",
   "language": "python",
   "name": "python3"
  },
  "language_info": {
   "codemirror_mode": {
    "name": "ipython",
    "version": 3
   },
   "file_extension": ".py",
   "mimetype": "text/x-python",
   "name": "python",
   "nbconvert_exporter": "python",
   "pygments_lexer": "ipython3",
   "version": "3.10.6"
  },
  "orig_nbformat": 4
 },
 "nbformat": 4,
 "nbformat_minor": 2
}
