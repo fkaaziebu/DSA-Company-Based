{
 "cells": [
  {
   "cell_type": "code",
   "execution_count": null,
   "metadata": {},
   "outputs": [],
   "source": [
    "'''\n",
    "We are given an array of heights of which we are told to compute the area with this heights that can hold the most\n",
    "water\n",
    "'''"
   ]
  },
  {
   "cell_type": "code",
   "execution_count": 1,
   "metadata": {},
   "outputs": [
    {
     "name": "stdout",
     "output_type": "stream",
     "text": [
      "49\n",
      "1\n"
     ]
    }
   ],
   "source": [
    "# Brute Force Approach\n",
    "'''\n",
    "In this approach, for each height, we combine it with the rest of the heights in the array to calculate for the \n",
    "area for holding the water\n",
    "\n",
    "Two for loops are used\n",
    "\n",
    "Input: height = [1,8,6,2,5,4,8,3,7]\n",
    "\n",
    "Solution\n",
    "[1, 8, 6, 2, 5, 4, 8, 3, 7]\n",
    " ^------------------------\n",
    "    ^---------------------\n",
    "       ^------------------\n",
    "          ^---------------\n",
    "             ^------------\n",
    "                ^---------\n",
    "                   ^------\n",
    "                      ^---\n",
    "Output: 49\n",
    "\n",
    "Time Complexity:\n",
    "Since for each height, there is a combination with each other height in the heights array, this means the overall\n",
    "time complexity will be O(N^2)\n",
    "\n",
    "Memory Complexity:\n",
    "O(1)\n",
    "'''\n",
    "\n",
    "# code\n",
    "def maxArea(height):\n",
    "    res = 0\n",
    "\n",
    "    for l in range(len(height)):\n",
    "        for r in range(l + 1, len(height)):\n",
    "            area = (r - l) * min(height[l], height[r])\n",
    "            res = max(res, area)\n",
    "    return res\n",
    "\n",
    "# Test 1\n",
    "height = [1,8,6,2,5,4,8,3,7]\n",
    "print(maxArea(height))\n",
    "\n",
    "# Test 2\n",
    "height = [1,1]\n",
    "print(maxArea(height))"
   ]
  },
  {
   "cell_type": "code",
   "execution_count": 2,
   "metadata": {},
   "outputs": [
    {
     "name": "stdout",
     "output_type": "stream",
     "text": [
      "49\n",
      "1\n"
     ]
    }
   ],
   "source": [
    "# Two Pointer Approach\n",
    "'''\n",
    "Instead of combining each height with the others, we can loop through the hieghts array once just with two pointers.\n",
    "One at the start and the other at the end.\n",
    "We move the left pointer if only the height at that position is less than or equal to that of the right pointer\n",
    "\n",
    "Input: height = [1,8,6,2,5,4,8,3,7]\n",
    "\n",
    "Solution\n",
    "[1, 8, 6, 2, 5, 4, 8, 3, 7]\n",
    " ^                       ^\n",
    "    *                    ^\n",
    "    *                 ^\n",
    "    *              ^\n",
    "       *           ^\n",
    "          *        ^\n",
    "             *     ^\n",
    "                *  ^\n",
    "\n",
    "Output: 49\n",
    "\n",
    "Time Complexity:\n",
    "One pass through the array hence O(N)\n",
    "\n",
    "Memory Complexity:\n",
    "O(1) constant memory\n",
    "\n",
    "'''\n",
    "\n",
    "# code\n",
    "def maxArea(height):\n",
    "    res = 0\n",
    "    l, r = 0, len(height) - 1\n",
    "\n",
    "    while l < r:\n",
    "        area = (r - l) * min(height[l], height[r])\n",
    "        res = max(res, area)\n",
    "\n",
    "        if height[l] < height[r]:\n",
    "            l += 1\n",
    "        else:\n",
    "            r -= 1\n",
    "        \n",
    "    return res\n",
    "\n",
    "# Test 1\n",
    "height = [1,8,6,2,5,4,8,3,7]\n",
    "print(maxArea(height))\n",
    "\n",
    "# Test 2\n",
    "height = [1,1]\n",
    "print(maxArea(height))"
   ]
  }
 ],
 "metadata": {
  "kernelspec": {
   "display_name": "Python 3",
   "language": "python",
   "name": "python3"
  },
  "language_info": {
   "codemirror_mode": {
    "name": "ipython",
    "version": 3
   },
   "file_extension": ".py",
   "mimetype": "text/x-python",
   "name": "python",
   "nbconvert_exporter": "python",
   "pygments_lexer": "ipython3",
   "version": "3.10.6"
  },
  "orig_nbformat": 4
 },
 "nbformat": 4,
 "nbformat_minor": 2
}
